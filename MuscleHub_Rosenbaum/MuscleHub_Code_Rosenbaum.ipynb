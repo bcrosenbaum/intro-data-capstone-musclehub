{
 "cells": [
  {
   "cell_type": "markdown",
   "metadata": {},
   "source": [
    "# Capstone Project 1: MuscleHub AB Test"
   ]
  },
  {
   "cell_type": "markdown",
   "metadata": {},
   "source": [
    "## Step 1: Get started with SQL"
   ]
  },
  {
   "cell_type": "markdown",
   "metadata": {},
   "source": [
    "Like most businesses, Janet keeps her data in a SQL database.  Normally, you'd download the data from her database to a csv file, and then load it into a Jupyter Notebook using Pandas.\n",
    "\n",
    "For this project, you'll have to access SQL in a slightly different way.  You'll be using a special Codecademy library that lets you type SQL queries directly into this Jupyter notebook.  You'll have pass each SQL query as an argument to a function called `sql_query`.  Each query will return a Pandas DataFrame.  Here's an example:"
   ]
  },
  {
   "cell_type": "code",
   "execution_count": 337,
   "metadata": {
    "collapsed": true
   },
   "outputs": [],
   "source": [
    "# This import only needs to happen once, at the beginning of the notebook\n",
    "from codecademySQL import sql_query"
   ]
  },
  {
   "cell_type": "code",
   "execution_count": 338,
   "metadata": {},
   "outputs": [
    {
     "data": {
      "text/html": [
       "<div>\n",
       "<style scoped>\n",
       "    .dataframe tbody tr th:only-of-type {\n",
       "        vertical-align: middle;\n",
       "    }\n",
       "\n",
       "    .dataframe tbody tr th {\n",
       "        vertical-align: top;\n",
       "    }\n",
       "\n",
       "    .dataframe thead th {\n",
       "        text-align: right;\n",
       "    }\n",
       "</style>\n",
       "<table border=\"1\" class=\"dataframe\">\n",
       "  <thead>\n",
       "    <tr style=\"text-align: right;\">\n",
       "      <th></th>\n",
       "      <th>index</th>\n",
       "      <th>first_name</th>\n",
       "      <th>last_name</th>\n",
       "      <th>email</th>\n",
       "      <th>gender</th>\n",
       "      <th>visit_date</th>\n",
       "    </tr>\n",
       "  </thead>\n",
       "  <tbody>\n",
       "    <tr>\n",
       "      <th>0</th>\n",
       "      <td>0</td>\n",
       "      <td>Karen</td>\n",
       "      <td>Manning</td>\n",
       "      <td>Karen.Manning@gmail.com</td>\n",
       "      <td>female</td>\n",
       "      <td>5-1-17</td>\n",
       "    </tr>\n",
       "    <tr>\n",
       "      <th>1</th>\n",
       "      <td>1</td>\n",
       "      <td>Annette</td>\n",
       "      <td>Boone</td>\n",
       "      <td>AB9982@gmail.com</td>\n",
       "      <td>female</td>\n",
       "      <td>5-1-17</td>\n",
       "    </tr>\n",
       "    <tr>\n",
       "      <th>2</th>\n",
       "      <td>2</td>\n",
       "      <td>Salvador</td>\n",
       "      <td>Merritt</td>\n",
       "      <td>SalvadorMerritt12@outlook.com</td>\n",
       "      <td>male</td>\n",
       "      <td>5-1-17</td>\n",
       "    </tr>\n",
       "    <tr>\n",
       "      <th>3</th>\n",
       "      <td>3</td>\n",
       "      <td>Martha</td>\n",
       "      <td>Maxwell</td>\n",
       "      <td>Martha.Maxwell@gmail.com</td>\n",
       "      <td>female</td>\n",
       "      <td>5-1-17</td>\n",
       "    </tr>\n",
       "    <tr>\n",
       "      <th>4</th>\n",
       "      <td>4</td>\n",
       "      <td>Andre</td>\n",
       "      <td>Mayer</td>\n",
       "      <td>AndreMayer90@gmail.com</td>\n",
       "      <td>male</td>\n",
       "      <td>5-1-17</td>\n",
       "    </tr>\n",
       "  </tbody>\n",
       "</table>\n",
       "</div>"
      ],
      "text/plain": [
       "   index first_name last_name                          email  gender  \\\n",
       "0      0      Karen   Manning        Karen.Manning@gmail.com  female   \n",
       "1      1    Annette     Boone               AB9982@gmail.com  female   \n",
       "2      2   Salvador   Merritt  SalvadorMerritt12@outlook.com    male   \n",
       "3      3     Martha   Maxwell       Martha.Maxwell@gmail.com  female   \n",
       "4      4      Andre     Mayer         AndreMayer90@gmail.com    male   \n",
       "\n",
       "  visit_date  \n",
       "0     5-1-17  \n",
       "1     5-1-17  \n",
       "2     5-1-17  \n",
       "3     5-1-17  \n",
       "4     5-1-17  "
      ]
     },
     "execution_count": 338,
     "metadata": {},
     "output_type": "execute_result"
    }
   ],
   "source": [
    "# Here's an example of a query that just displays some data\n",
    "sql_query('''\n",
    "SELECT *\n",
    "FROM visits\n",
    "LIMIT 5\n",
    "''')"
   ]
  },
  {
   "cell_type": "code",
   "execution_count": 339,
   "metadata": {},
   "outputs": [
    {
     "name": "stdout",
     "output_type": "stream",
     "text": [
      "   index first_name last_name                    email  gender  \\\n",
      "0      0        Roy    Abbott    RoyAbbott32@gmail.com    male   \n",
      "1      1      Agnes   Acevedo  AgnesAcevedo1@gmail.com  female   \n",
      "2      2    Roberta   Acevedo         RA8063@gmail.com  female   \n",
      "3      3     Darren    Acosta  DAcosta1996@hotmail.com    male   \n",
      "4      4     Vernon    Acosta    VAcosta1975@gmail.com    male   \n",
      "\n",
      "  application_date  \n",
      "0       2017-08-12  \n",
      "1       2017-09-29  \n",
      "2       2017-09-15  \n",
      "3       2017-07-26  \n",
      "4       2017-07-14  \n"
     ]
    }
   ],
   "source": [
    "# Here's an example where we save the data to a DataFrame\n",
    "df = sql_query('''\n",
    "SELECT *\n",
    "FROM applications\n",
    "LIMIT 7\n",
    "''')\n",
    "\n",
    "print df.head()"
   ]
  },
  {
   "cell_type": "markdown",
   "metadata": {},
   "source": [
    "## Step 2: Get your dataset"
   ]
  },
  {
   "cell_type": "markdown",
   "metadata": {},
   "source": [
    "Let's get started!\n",
    "\n",
    "Janet of MuscleHub has a SQLite database, which contains several tables that will be helpful to you in this investigation:\n",
    "- `visits` contains information about potential gym customers who have visited MuscleHub\n",
    "- `fitness_tests` contains information about potential customers in \"Group A\", who were given a fitness test\n",
    "- `applications` contains information about any potential customers (both \"Group A\" and \"Group B\") who filled out an application.  Not everyone in `visits` will have filled out an application.\n",
    "- `purchases` contains information about customers who purchased a membership to MuscleHub.\n",
    "\n",
    "Use the space below to examine each table."
   ]
  },
  {
   "cell_type": "code",
   "execution_count": 340,
   "metadata": {
    "collapsed": true
   },
   "outputs": [
    {
     "data": {
      "text/html": [
       "<div>\n",
       "<style scoped>\n",
       "    .dataframe tbody tr th:only-of-type {\n",
       "        vertical-align: middle;\n",
       "    }\n",
       "\n",
       "    .dataframe tbody tr th {\n",
       "        vertical-align: top;\n",
       "    }\n",
       "\n",
       "    .dataframe thead th {\n",
       "        text-align: right;\n",
       "    }\n",
       "</style>\n",
       "<table border=\"1\" class=\"dataframe\">\n",
       "  <thead>\n",
       "    <tr style=\"text-align: right;\">\n",
       "      <th></th>\n",
       "      <th>index</th>\n",
       "      <th>first_name</th>\n",
       "      <th>last_name</th>\n",
       "      <th>email</th>\n",
       "      <th>gender</th>\n",
       "      <th>visit_date</th>\n",
       "    </tr>\n",
       "  </thead>\n",
       "  <tbody>\n",
       "    <tr>\n",
       "      <th>0</th>\n",
       "      <td>0</td>\n",
       "      <td>Karen</td>\n",
       "      <td>Manning</td>\n",
       "      <td>Karen.Manning@gmail.com</td>\n",
       "      <td>female</td>\n",
       "      <td>5-1-17</td>\n",
       "    </tr>\n",
       "    <tr>\n",
       "      <th>1</th>\n",
       "      <td>1</td>\n",
       "      <td>Annette</td>\n",
       "      <td>Boone</td>\n",
       "      <td>AB9982@gmail.com</td>\n",
       "      <td>female</td>\n",
       "      <td>5-1-17</td>\n",
       "    </tr>\n",
       "    <tr>\n",
       "      <th>2</th>\n",
       "      <td>2</td>\n",
       "      <td>Salvador</td>\n",
       "      <td>Merritt</td>\n",
       "      <td>SalvadorMerritt12@outlook.com</td>\n",
       "      <td>male</td>\n",
       "      <td>5-1-17</td>\n",
       "    </tr>\n",
       "    <tr>\n",
       "      <th>3</th>\n",
       "      <td>3</td>\n",
       "      <td>Martha</td>\n",
       "      <td>Maxwell</td>\n",
       "      <td>Martha.Maxwell@gmail.com</td>\n",
       "      <td>female</td>\n",
       "      <td>5-1-17</td>\n",
       "    </tr>\n",
       "    <tr>\n",
       "      <th>4</th>\n",
       "      <td>4</td>\n",
       "      <td>Andre</td>\n",
       "      <td>Mayer</td>\n",
       "      <td>AndreMayer90@gmail.com</td>\n",
       "      <td>male</td>\n",
       "      <td>5-1-17</td>\n",
       "    </tr>\n",
       "  </tbody>\n",
       "</table>\n",
       "</div>"
      ],
      "text/plain": [
       "   index first_name last_name                          email  gender  \\\n",
       "0      0      Karen   Manning        Karen.Manning@gmail.com  female   \n",
       "1      1    Annette     Boone               AB9982@gmail.com  female   \n",
       "2      2   Salvador   Merritt  SalvadorMerritt12@outlook.com    male   \n",
       "3      3     Martha   Maxwell       Martha.Maxwell@gmail.com  female   \n",
       "4      4      Andre     Mayer         AndreMayer90@gmail.com    male   \n",
       "\n",
       "  visit_date  \n",
       "0     5-1-17  \n",
       "1     5-1-17  \n",
       "2     5-1-17  \n",
       "3     5-1-17  \n",
       "4     5-1-17  "
      ]
     },
     "execution_count": 340,
     "metadata": {},
     "output_type": "execute_result"
    }
   ],
   "source": [
    "# Examine visits here\n",
    "sql_query('''\n",
    "SELECT *\n",
    "FROM visits\n",
    "LIMIT 5\n",
    "''')"
   ]
  },
  {
   "cell_type": "code",
   "execution_count": 341,
   "metadata": {
    "collapsed": true
   },
   "outputs": [
    {
     "data": {
      "text/html": [
       "<div>\n",
       "<style scoped>\n",
       "    .dataframe tbody tr th:only-of-type {\n",
       "        vertical-align: middle;\n",
       "    }\n",
       "\n",
       "    .dataframe tbody tr th {\n",
       "        vertical-align: top;\n",
       "    }\n",
       "\n",
       "    .dataframe thead th {\n",
       "        text-align: right;\n",
       "    }\n",
       "</style>\n",
       "<table border=\"1\" class=\"dataframe\">\n",
       "  <thead>\n",
       "    <tr style=\"text-align: right;\">\n",
       "      <th></th>\n",
       "      <th>index</th>\n",
       "      <th>first_name</th>\n",
       "      <th>last_name</th>\n",
       "      <th>email</th>\n",
       "      <th>gender</th>\n",
       "      <th>fitness_test_date</th>\n",
       "    </tr>\n",
       "  </thead>\n",
       "  <tbody>\n",
       "    <tr>\n",
       "      <th>0</th>\n",
       "      <td>0</td>\n",
       "      <td>Kim</td>\n",
       "      <td>Walter</td>\n",
       "      <td>KimWalter58@gmail.com</td>\n",
       "      <td>female</td>\n",
       "      <td>2017-07-03</td>\n",
       "    </tr>\n",
       "    <tr>\n",
       "      <th>1</th>\n",
       "      <td>1</td>\n",
       "      <td>Tom</td>\n",
       "      <td>Webster</td>\n",
       "      <td>TW3857@gmail.com</td>\n",
       "      <td>male</td>\n",
       "      <td>2017-07-02</td>\n",
       "    </tr>\n",
       "    <tr>\n",
       "      <th>2</th>\n",
       "      <td>2</td>\n",
       "      <td>Marcus</td>\n",
       "      <td>Bauer</td>\n",
       "      <td>Marcus.Bauer@gmail.com</td>\n",
       "      <td>male</td>\n",
       "      <td>2017-07-01</td>\n",
       "    </tr>\n",
       "    <tr>\n",
       "      <th>3</th>\n",
       "      <td>3</td>\n",
       "      <td>Roberta</td>\n",
       "      <td>Best</td>\n",
       "      <td>RB6305@hotmail.com</td>\n",
       "      <td>female</td>\n",
       "      <td>2017-07-02</td>\n",
       "    </tr>\n",
       "    <tr>\n",
       "      <th>4</th>\n",
       "      <td>4</td>\n",
       "      <td>Carrie</td>\n",
       "      <td>Francis</td>\n",
       "      <td>CF1896@hotmail.com</td>\n",
       "      <td>female</td>\n",
       "      <td>2017-07-05</td>\n",
       "    </tr>\n",
       "  </tbody>\n",
       "</table>\n",
       "</div>"
      ],
      "text/plain": [
       "   index first_name last_name                   email  gender  \\\n",
       "0      0        Kim    Walter   KimWalter58@gmail.com  female   \n",
       "1      1        Tom   Webster        TW3857@gmail.com    male   \n",
       "2      2     Marcus     Bauer  Marcus.Bauer@gmail.com    male   \n",
       "3      3    Roberta      Best      RB6305@hotmail.com  female   \n",
       "4      4     Carrie   Francis      CF1896@hotmail.com  female   \n",
       "\n",
       "  fitness_test_date  \n",
       "0        2017-07-03  \n",
       "1        2017-07-02  \n",
       "2        2017-07-01  \n",
       "3        2017-07-02  \n",
       "4        2017-07-05  "
      ]
     },
     "execution_count": 341,
     "metadata": {},
     "output_type": "execute_result"
    }
   ],
   "source": [
    "# Examine fitness_tests here\n",
    "sql_query('''\n",
    "SELECT *\n",
    "FROM fitness_tests\n",
    "LIMIT 5\n",
    "''')"
   ]
  },
  {
   "cell_type": "code",
   "execution_count": 342,
   "metadata": {
    "collapsed": true
   },
   "outputs": [
    {
     "data": {
      "text/html": [
       "<div>\n",
       "<style scoped>\n",
       "    .dataframe tbody tr th:only-of-type {\n",
       "        vertical-align: middle;\n",
       "    }\n",
       "\n",
       "    .dataframe tbody tr th {\n",
       "        vertical-align: top;\n",
       "    }\n",
       "\n",
       "    .dataframe thead th {\n",
       "        text-align: right;\n",
       "    }\n",
       "</style>\n",
       "<table border=\"1\" class=\"dataframe\">\n",
       "  <thead>\n",
       "    <tr style=\"text-align: right;\">\n",
       "      <th></th>\n",
       "      <th>index</th>\n",
       "      <th>first_name</th>\n",
       "      <th>last_name</th>\n",
       "      <th>email</th>\n",
       "      <th>gender</th>\n",
       "      <th>application_date</th>\n",
       "    </tr>\n",
       "  </thead>\n",
       "  <tbody>\n",
       "    <tr>\n",
       "      <th>0</th>\n",
       "      <td>0</td>\n",
       "      <td>Roy</td>\n",
       "      <td>Abbott</td>\n",
       "      <td>RoyAbbott32@gmail.com</td>\n",
       "      <td>male</td>\n",
       "      <td>2017-08-12</td>\n",
       "    </tr>\n",
       "    <tr>\n",
       "      <th>1</th>\n",
       "      <td>1</td>\n",
       "      <td>Agnes</td>\n",
       "      <td>Acevedo</td>\n",
       "      <td>AgnesAcevedo1@gmail.com</td>\n",
       "      <td>female</td>\n",
       "      <td>2017-09-29</td>\n",
       "    </tr>\n",
       "    <tr>\n",
       "      <th>2</th>\n",
       "      <td>2</td>\n",
       "      <td>Roberta</td>\n",
       "      <td>Acevedo</td>\n",
       "      <td>RA8063@gmail.com</td>\n",
       "      <td>female</td>\n",
       "      <td>2017-09-15</td>\n",
       "    </tr>\n",
       "    <tr>\n",
       "      <th>3</th>\n",
       "      <td>3</td>\n",
       "      <td>Darren</td>\n",
       "      <td>Acosta</td>\n",
       "      <td>DAcosta1996@hotmail.com</td>\n",
       "      <td>male</td>\n",
       "      <td>2017-07-26</td>\n",
       "    </tr>\n",
       "    <tr>\n",
       "      <th>4</th>\n",
       "      <td>4</td>\n",
       "      <td>Vernon</td>\n",
       "      <td>Acosta</td>\n",
       "      <td>VAcosta1975@gmail.com</td>\n",
       "      <td>male</td>\n",
       "      <td>2017-07-14</td>\n",
       "    </tr>\n",
       "  </tbody>\n",
       "</table>\n",
       "</div>"
      ],
      "text/plain": [
       "   index first_name last_name                    email  gender  \\\n",
       "0      0        Roy    Abbott    RoyAbbott32@gmail.com    male   \n",
       "1      1      Agnes   Acevedo  AgnesAcevedo1@gmail.com  female   \n",
       "2      2    Roberta   Acevedo         RA8063@gmail.com  female   \n",
       "3      3     Darren    Acosta  DAcosta1996@hotmail.com    male   \n",
       "4      4     Vernon    Acosta    VAcosta1975@gmail.com    male   \n",
       "\n",
       "  application_date  \n",
       "0       2017-08-12  \n",
       "1       2017-09-29  \n",
       "2       2017-09-15  \n",
       "3       2017-07-26  \n",
       "4       2017-07-14  "
      ]
     },
     "execution_count": 342,
     "metadata": {},
     "output_type": "execute_result"
    }
   ],
   "source": [
    "# Examine applications here\n",
    "sql_query('''\n",
    "SELECT *\n",
    "FROM applications\n",
    "LIMIT 5\n",
    "''')"
   ]
  },
  {
   "cell_type": "code",
   "execution_count": 343,
   "metadata": {
    "collapsed": true
   },
   "outputs": [
    {
     "data": {
      "text/html": [
       "<div>\n",
       "<style scoped>\n",
       "    .dataframe tbody tr th:only-of-type {\n",
       "        vertical-align: middle;\n",
       "    }\n",
       "\n",
       "    .dataframe tbody tr th {\n",
       "        vertical-align: top;\n",
       "    }\n",
       "\n",
       "    .dataframe thead th {\n",
       "        text-align: right;\n",
       "    }\n",
       "</style>\n",
       "<table border=\"1\" class=\"dataframe\">\n",
       "  <thead>\n",
       "    <tr style=\"text-align: right;\">\n",
       "      <th></th>\n",
       "      <th>index</th>\n",
       "      <th>first_name</th>\n",
       "      <th>last_name</th>\n",
       "      <th>email</th>\n",
       "      <th>gender</th>\n",
       "      <th>purchase_date</th>\n",
       "    </tr>\n",
       "  </thead>\n",
       "  <tbody>\n",
       "    <tr>\n",
       "      <th>0</th>\n",
       "      <td>0</td>\n",
       "      <td>Roy</td>\n",
       "      <td>Abbott</td>\n",
       "      <td>RoyAbbott32@gmail.com</td>\n",
       "      <td>male</td>\n",
       "      <td>2017-08-18</td>\n",
       "    </tr>\n",
       "    <tr>\n",
       "      <th>1</th>\n",
       "      <td>1</td>\n",
       "      <td>Roberta</td>\n",
       "      <td>Acevedo</td>\n",
       "      <td>RA8063@gmail.com</td>\n",
       "      <td>female</td>\n",
       "      <td>2017-09-16</td>\n",
       "    </tr>\n",
       "    <tr>\n",
       "      <th>2</th>\n",
       "      <td>2</td>\n",
       "      <td>Vernon</td>\n",
       "      <td>Acosta</td>\n",
       "      <td>VAcosta1975@gmail.com</td>\n",
       "      <td>male</td>\n",
       "      <td>2017-07-20</td>\n",
       "    </tr>\n",
       "    <tr>\n",
       "      <th>3</th>\n",
       "      <td>3</td>\n",
       "      <td>Darren</td>\n",
       "      <td>Acosta</td>\n",
       "      <td>DAcosta1996@hotmail.com</td>\n",
       "      <td>male</td>\n",
       "      <td>2017-07-27</td>\n",
       "    </tr>\n",
       "    <tr>\n",
       "      <th>4</th>\n",
       "      <td>4</td>\n",
       "      <td>Dawn</td>\n",
       "      <td>Adkins</td>\n",
       "      <td>Dawn.Adkins@gmail.com</td>\n",
       "      <td>female</td>\n",
       "      <td>2017-08-24</td>\n",
       "    </tr>\n",
       "  </tbody>\n",
       "</table>\n",
       "</div>"
      ],
      "text/plain": [
       "   index first_name last_name                    email  gender purchase_date\n",
       "0      0        Roy    Abbott    RoyAbbott32@gmail.com    male    2017-08-18\n",
       "1      1    Roberta   Acevedo         RA8063@gmail.com  female    2017-09-16\n",
       "2      2     Vernon    Acosta    VAcosta1975@gmail.com    male    2017-07-20\n",
       "3      3     Darren    Acosta  DAcosta1996@hotmail.com    male    2017-07-27\n",
       "4      4       Dawn    Adkins    Dawn.Adkins@gmail.com  female    2017-08-24"
      ]
     },
     "execution_count": 343,
     "metadata": {},
     "output_type": "execute_result"
    }
   ],
   "source": [
    "# Examine purchases here\n",
    "sql_query('''\n",
    "SELECT *\n",
    "FROM purchases\n",
    "LIMIT 5\n",
    "''')"
   ]
  },
  {
   "cell_type": "markdown",
   "metadata": {},
   "source": [
    "We'd like to download a giant DataFrame containing all of this data.  You'll need to write a query that does the following things:\n",
    "\n",
    "1. Not all visits in  `visits` occurred during the A/B test.  You'll only want to pull data where `visit_date` is on or after `7-1-17`.\n",
    "\n",
    "2. You'll want to perform a series of `LEFT JOIN` commands to combine the four tables that we care about.  You'll need to perform the joins on `first_name`, `last_name`, and `email`.  Pull the following columns:\n",
    "\n",
    "\n",
    "- `visits.first_name`\n",
    "- `visits.last_name`\n",
    "- `visits.gender`\n",
    "- `visits.email`\n",
    "- `visits.visit_date`\n",
    "- `fitness_tests.fitness_test_date`\n",
    "- `applications.application_date`\n",
    "- `purchases.purchase_date`\n",
    "\n",
    "Save the result of this query to a variable called `df`.\n",
    "\n",
    "Hint: your result should have 5004 rows.  Does it?"
   ]
  },
  {
   "cell_type": "code",
   "execution_count": 344,
   "metadata": {},
   "outputs": [
    {
     "name": "stdout",
     "output_type": "stream",
     "text": [
      "     first_name   last_name  gender                          email visit_date  \\\n",
      "0       Armando     Mccarty    male      Armando.Mccarty@gmail.com     9-9-17   \n",
      "1        Sidney       Noble    male           SNoble1971@gmail.com     9-9-17   \n",
      "2        Walter      Lowery    male        WalterLowery8@gmail.com     9-9-17   \n",
      "3         Kathy      Macias  female          KMacias1975@gmail.com     9-9-17   \n",
      "4        Glenda     Mullins  female               GM2973@gmail.com     9-9-17   \n",
      "5       Chester     Whitney    male   ChesterWhitney27@outlook.com     9-9-17   \n",
      "6          Lori     Wilkins  female       Lori.Wilkins@hotmail.com     9-9-17   \n",
      "7     Constance        Pope  female               CP6444@gmail.com     9-9-17   \n",
      "8         Tracy       Ewing  female          Tracy.Ewing@gmail.com     9-9-17   \n",
      "9        Sylvia      Finley  female       SylviaFinley50@gmail.com     9-9-17   \n",
      "10       Ramona     Gilmore  female         RGilmore1975@gmail.com     9-9-17   \n",
      "11     Jennifer   Hendricks  female   Jennifer.Hendricks@gmail.com     9-9-17   \n",
      "12         Neil      Hopper    male          Neil.Hopper@gmail.com     9-9-17   \n",
      "13         Alma      Dalton  female          ADalton1980@gmail.com     9-9-17   \n",
      "14       Marcia     Emerson  female         MEmerson1975@gmail.com     9-9-17   \n",
      "15      Raymond    Cantrell    male     Raymond.Cantrell@gmail.com     9-9-17   \n",
      "16       Walter      Wooten    male        Walter.Wooten@gmail.com     9-9-17   \n",
      "17      Vincent       Wyatt    male        Vincent.Wyatt@gmail.com     9-9-17   \n",
      "18        Danny     Sellers    male       DannySellers53@gmail.com     9-9-17   \n",
      "19      Kristen     Trevino  female               KT2379@gmail.com     9-9-17   \n",
      "20        Ethel      Valdez  female          EValdez1994@gmail.com     9-9-17   \n",
      "21         Emma     Marquez  female               EM5762@gmail.com     9-9-17   \n",
      "22       Miriam    Mccarthy  female        MMccarthy1986@gmail.com     9-9-17   \n",
      "23      Roberta     Acevedo  female               RA8063@gmail.com     9-9-17   \n",
      "24        Elsie     Farrell  female             EF8487@outlook.com     9-9-17   \n",
      "25      Dolores     Nielsen  female       DNielsen1989@outlook.com     9-9-17   \n",
      "26        Kathy       Drake  female         KathyDrake58@yahoo.com     9-9-17   \n",
      "27        Misty    Roberson  female       Misty.Roberson@gmail.com     9-9-17   \n",
      "28       Marian      Daniel  female      Marian.Daniel@outlook.com     9-9-17   \n",
      "29        Wanda        Snow  female          WandaSnow93@gmail.com     9-9-17   \n",
      "...         ...         ...     ...                            ...        ...   \n",
      "4974       Edna     Manning  female        EdnaManning16@gmail.com     7-1-17   \n",
      "4975     George       Boone    male        GeorgeBoone55@gmail.com     7-1-17   \n",
      "4976       Anne       Velez  female               AV8351@gmail.com     7-1-17   \n",
      "4977    Michael       Burks    male               MB9820@gmail.com     7-1-17   \n",
      "4978      Clyde     Patrick    male        Clyde.Patrick@gmail.com     7-1-17   \n",
      "4979     Jennie   Macdonald  female     JennieMacdonald9@gmail.com     7-1-17   \n",
      "4980  Christina     Whitley  female   ChristinaWhitley36@gmail.com     7-1-17   \n",
      "4981       Lynn    Guerrero  female         LynnGuerrero45@aol.com     7-1-17   \n",
      "4982     Connie   Cleveland  female     CCleveland1986@outlook.com     7-1-17   \n",
      "4983       Leon      Spence    male               LS5927@gmail.com     7-1-17   \n",
      "4984      Bobby       Ayers    male          Bobby.Ayers@gmail.com     7-1-17   \n",
      "4985     Philip     Santana    male     Philip.Santana@outlook.com     7-1-17   \n",
      "4986       Leon    Petersen    male      LPetersen1974@hotmail.com     7-1-17   \n",
      "4987      Lewis       Huber    male           LHuber1993@gmail.com     7-1-17   \n",
      "4988      Viola        Owen  female          ViolaOwen38@gmail.com     7-1-17   \n",
      "4989    Phillip  Fitzgerald    male      PFitzgerald1970@gmail.com     7-1-17   \n",
      "4990    Raymond      Conley    male               RC7718@gmail.com     7-1-17   \n",
      "4991   Franklin        Mays    male        Franklin.Mays@gmail.com     7-1-17   \n",
      "4992     Yvonne   Nicholson  female    YvonneNicholson61@gmail.com     7-1-17   \n",
      "4993    Deborah   Whitfield  female               DW3195@gmail.com     7-1-17   \n",
      "4994        Eva        Goff  female            EvaGoff82@gmail.com     7-1-17   \n",
      "4995      Diane     Shields  female     DianeShields31@outlook.com     7-1-17   \n",
      "4996      Allen      Golden    male         Allen.Golden@gmail.com     7-1-17   \n",
      "4997    Clayton       Greer    male       ClaytonGreer50@gmail.com     7-1-17   \n",
      "4998    Kristen    Randolph  female  KristenRandolph13@outlook.com     7-1-17   \n",
      "4999        Ida        Rush  female             Ida.Rush@gmail.com     7-1-17   \n",
      "5000      Danny   Velazquez    male             DV3950@outlook.com     7-1-17   \n",
      "5001      Tracy       Walls  female               TW9422@gmail.com     7-1-17   \n",
      "5002       Judy    Mcmillan  female      Judy.Mcmillan@outlook.com     7-1-17   \n",
      "5003     Arnold      Madden    male        Arnold.Madden@gmail.com     7-1-17   \n",
      "\n",
      "     fitness_test_date application_date purchase_date  \n",
      "0                 None             None          None  \n",
      "1                 None             None          None  \n",
      "2           2017-09-12             None          None  \n",
      "3                 None             None          None  \n",
      "4                 None             None          None  \n",
      "5                 None             None          None  \n",
      "6                 None             None          None  \n",
      "7           2017-09-15             None          None  \n",
      "8           2017-09-10             None          None  \n",
      "9           2017-09-14             None          None  \n",
      "10                None             None          None  \n",
      "11                None             None          None  \n",
      "12          2017-09-12             None          None  \n",
      "13                None             None          None  \n",
      "14          2017-09-11             None          None  \n",
      "15                None       2017-09-13    2017-09-18  \n",
      "16                None             None          None  \n",
      "17                None             None          None  \n",
      "18                None             None          None  \n",
      "19          2017-09-12             None          None  \n",
      "20          2017-09-09             None          None  \n",
      "21                None             None          None  \n",
      "22                None             None          None  \n",
      "23                None       2017-09-15    2017-09-16  \n",
      "24                None             None          None  \n",
      "25          2017-09-14             None          None  \n",
      "26                None             None          None  \n",
      "27          2017-09-14             None          None  \n",
      "28                None             None          None  \n",
      "29                None             None          None  \n",
      "...                ...              ...           ...  \n",
      "4974              None             None          None  \n",
      "4975        2017-07-03             None          None  \n",
      "4976        2017-07-06             None          None  \n",
      "4977              None       2017-07-07    2017-07-13  \n",
      "4978              None       2017-07-07          None  \n",
      "4979              None             None          None  \n",
      "4980        2017-07-02             None          None  \n",
      "4981              None             None          None  \n",
      "4982        2017-07-01             None          None  \n",
      "4983        2017-07-03             None          None  \n",
      "4984        2017-07-04             None          None  \n",
      "4985        2017-07-07             None          None  \n",
      "4986              None             None          None  \n",
      "4987        2017-07-07             None          None  \n",
      "4988        2017-07-05             None          None  \n",
      "4989              None             None          None  \n",
      "4990        2017-07-04             None          None  \n",
      "4991        2017-07-07             None          None  \n",
      "4992        2017-07-03             None          None  \n",
      "4993        2017-07-03             None          None  \n",
      "4994              None             None          None  \n",
      "4995        2017-07-03             None          None  \n",
      "4996        2017-07-03             None          None  \n",
      "4997        2017-07-07             None          None  \n",
      "4998        2017-07-06             None          None  \n",
      "4999              None             None          None  \n",
      "5000        2017-07-07             None          None  \n",
      "5001              None             None          None  \n",
      "5002              None             None          None  \n",
      "5003              None             None          None  \n",
      "\n",
      "[5004 rows x 8 columns]\n"
     ]
    }
   ],
   "source": [
    "df = sql_query('''SELECT visits.first_name, visits.last_name, visits.gender, visits.email, visits.visit_date, fitness_tests.fitness_test_date, applications.application_date, purchases.purchase_date\n",
    "FROM visits\n",
    "LEFT JOIN fitness_tests ON visits.email=fitness_tests.email AND visits.first_name=fitness_tests.first_name AND visits.last_name=fitness_tests.last_name\n",
    "LEFT JOIN applications ON visits.email=applications.email AND visits.first_name=applications.first_name AND visits.last_name=applications.last_name\n",
    "LEFT JOIN purchases ON visits.email=purchases.email AND visits.first_name=purchases.first_name AND visits.last_name=purchases.last_name\n",
    "ORDER BY visit_date DESC\n",
    "LIMIT 5004''')\n",
    "print df\n"
   ]
  },
  {
   "cell_type": "markdown",
   "metadata": {},
   "source": [
    "## Step 3: Investigate the A and B groups"
   ]
  },
  {
   "cell_type": "markdown",
   "metadata": {},
   "source": [
    "We have some data to work with! Import the following modules so that we can start doing analysis:\n",
    "- `import pandas as pd`\n",
    "- `from matplotlib import pyplot as plt`"
   ]
  },
  {
   "cell_type": "code",
   "execution_count": 350,
   "metadata": {
    "collapsed": true
   },
   "outputs": [],
   "source": [
    "import pandas as pd\n",
    "from matplotlib import pyplot as plt"
   ]
  },
  {
   "cell_type": "markdown",
   "metadata": {},
   "source": [
    "We're going to add some columns to `df` to help us with our analysis.\n",
    "\n",
    "Start by adding a column called `ab_test_group`.  It should be `A` if `fitness_test_date` is not `None`, and `B` if `fitness_test_date` is `None`."
   ]
  },
  {
   "cell_type": "code",
   "execution_count": 346,
   "metadata": {},
   "outputs": [
    {
     "name": "stdout",
     "output_type": "stream",
     "text": [
      "  first_name last_name  gender                      email visit_date  \\\n",
      "0    Armando   Mccarty    male  Armando.Mccarty@gmail.com     9-9-17   \n",
      "1     Sidney     Noble    male       SNoble1971@gmail.com     9-9-17   \n",
      "2     Walter    Lowery    male    WalterLowery8@gmail.com     9-9-17   \n",
      "3      Kathy    Macias  female      KMacias1975@gmail.com     9-9-17   \n",
      "4     Glenda   Mullins  female           GM2973@gmail.com     9-9-17   \n",
      "\n",
      "  fitness_test_date application_date purchase_date  null_fitness ab_test_group  \n",
      "0              None             None          None          True             B  \n",
      "1              None             None          None          True             B  \n",
      "2        2017-09-12             None          None         False             A  \n",
      "3              None             None          None          True             B  \n",
      "4              None             None          None          True             B  \n"
     ]
    }
   ],
   "source": [
    "df['null_fitness']=df.fitness_test_date.isnull()\n",
    "df['ab_test_group']=df.null_fitness.apply(lambda x:'A' if x == False else 'B')\n",
    "print df.head()"
   ]
  },
  {
   "cell_type": "markdown",
   "metadata": {},
   "source": [
    "Let's do a quick sanity check that Janet split her visitors such that about half are in A and half are in B.\n",
    "\n",
    "Start by using `groupby` to count how many users are in each `ab_test_group`.  Save the results to `ab_counts`."
   ]
  },
  {
   "cell_type": "code",
   "execution_count": 352,
   "metadata": {},
   "outputs": [
    {
     "name": "stdout",
     "output_type": "stream",
     "text": [
      "  ab_test_group  gender\n",
      "0             A    2504\n",
      "1             B    2500\n"
     ]
    }
   ],
   "source": [
    "ab_counts=df.groupby('ab_test_group').gender.count().reset_index()\n",
    "print ab_counts"
   ]
  },
  {
   "cell_type": "markdown",
   "metadata": {},
   "source": [
    "We'll want to include this information in our presentation.  Let's create a pie cart using `plt.pie`.  Make sure to include:\n",
    "- Use `plt.axis('equal')` so that your pie chart looks nice\n",
    "- Add a legend labeling `A` and `B`\n",
    "- Use `autopct` to label the percentage of each group\n",
    "- Save your figure as `ab_test_pie_chart.png`"
   ]
  },
  {
   "cell_type": "code",
   "execution_count": 360,
   "metadata": {},
   "outputs": [
    {
     "data": {
      "image/png": "[encoded data removed]",
      "text/plain": [
       "<Figure size 432x288 with 1 Axes>"
      ]
     },
     "metadata": {},
     "output_type": "display_data"
    },
    {
     "data": {
      "text/plain": [
       "<Figure size 720x576 with 0 Axes>"
      ]
     },
     "metadata": {},
     "output_type": "display_data"
    },
    {
     "data": {
      "text/plain": [
       "<Figure size 432x288 with 0 Axes>"
      ]
     },
     "metadata": {},
     "output_type": "display_data"
    }
   ],
   "source": [
    "plt.pie(ab_counts.gender,autopct='%d%%')\n",
    "plt.axis('equal')\n",
    "plt.legend(['A','B'])\n",
    "plt.title(\"AB Test Counts: 'Almost' Equally Distributed\", fontsize=15)\n",
    "plt.figure(figsize=(10,8))\n",
    "plt.show()\n",
    "plt.savefig('ab_test_pie_chart.png')"
   ]
  },
  {
   "cell_type": "markdown",
   "metadata": {},
   "source": [
    "## Step 4: Who picks up an application?"
   ]
  },
  {
   "cell_type": "markdown",
   "metadata": {},
   "source": [
    "Recall that the sign-up process for MuscleHub has several steps:\n",
    "1. Take a fitness test with a personal trainer (only Group A)\n",
    "2. Fill out an application for the gym\n",
    "3. Send in their payment for their first month's membership\n",
    "\n",
    "Let's examine how many people make it to Step 2, filling out an application.\n",
    "\n",
    "Start by creating a new column in `df` called `is_application` which is `Application` if `application_date` is not `None` and `No Application`, otherwise."
   ]
  },
  {
   "cell_type": "code",
   "execution_count": 180,
   "metadata": {
    "collapsed": true
   },
   "outputs": [
    {
     "name": "stdout",
     "output_type": "stream",
     "text": [
      "   first_name  last_name  gender                         email visit_date  \\\n",
      "0     Armando    Mccarty    male     Armando.Mccarty@gmail.com     9-9-17   \n",
      "1      Sidney      Noble    male          SNoble1971@gmail.com     9-9-17   \n",
      "2      Walter     Lowery    male       WalterLowery8@gmail.com     9-9-17   \n",
      "3       Kathy     Macias  female         KMacias1975@gmail.com     9-9-17   \n",
      "4      Glenda    Mullins  female              GM2973@gmail.com     9-9-17   \n",
      "5     Chester    Whitney    male  ChesterWhitney27@outlook.com     9-9-17   \n",
      "6        Lori    Wilkins  female      Lori.Wilkins@hotmail.com     9-9-17   \n",
      "7   Constance       Pope  female              CP6444@gmail.com     9-9-17   \n",
      "8       Tracy      Ewing  female         Tracy.Ewing@gmail.com     9-9-17   \n",
      "9      Sylvia     Finley  female      SylviaFinley50@gmail.com     9-9-17   \n",
      "10     Ramona    Gilmore  female        RGilmore1975@gmail.com     9-9-17   \n",
      "11   Jennifer  Hendricks  female  Jennifer.Hendricks@gmail.com     9-9-17   \n",
      "12       Neil     Hopper    male         Neil.Hopper@gmail.com     9-9-17   \n",
      "13       Alma     Dalton  female         ADalton1980@gmail.com     9-9-17   \n",
      "14     Marcia    Emerson  female        MEmerson1975@gmail.com     9-9-17   \n",
      "15    Raymond   Cantrell    male    Raymond.Cantrell@gmail.com     9-9-17   \n",
      "16     Walter     Wooten    male       Walter.Wooten@gmail.com     9-9-17   \n",
      "17    Vincent      Wyatt    male       Vincent.Wyatt@gmail.com     9-9-17   \n",
      "18      Danny    Sellers    male      DannySellers53@gmail.com     9-9-17   \n",
      "19    Kristen    Trevino  female              KT2379@gmail.com     9-9-17   \n",
      "\n",
      "   fitness_test_date application_date purchase_date ab_test_group  \\\n",
      "0               None             None          None             B   \n",
      "1               None             None          None             B   \n",
      "2         2017-09-12             None          None             A   \n",
      "3               None             None          None             B   \n",
      "4               None             None          None             B   \n",
      "5               None             None          None             B   \n",
      "6               None             None          None             B   \n",
      "7         2017-09-15             None          None             A   \n",
      "8         2017-09-10             None          None             A   \n",
      "9         2017-09-14             None          None             A   \n",
      "10              None             None          None             B   \n",
      "11              None             None          None             B   \n",
      "12        2017-09-12             None          None             A   \n",
      "13              None             None          None             B   \n",
      "14        2017-09-11             None          None             A   \n",
      "15              None       2017-09-13    2017-09-18             B   \n",
      "16              None             None          None             B   \n",
      "17              None             None          None             B   \n",
      "18              None             None          None             B   \n",
      "19        2017-09-12             None          None             A   \n",
      "\n",
      "   ab_test_group1   null ab_test_group22  null_fitness  null_application  \\\n",
      "0               B   True               B          True              True   \n",
      "1               B   True               B          True              True   \n",
      "2               A  False               A         False              True   \n",
      "3               B   True               B          True              True   \n",
      "4               B   True               B          True              True   \n",
      "5               B   True               B          True              True   \n",
      "6               B   True               B          True              True   \n",
      "7               A  False               A         False              True   \n",
      "8               A  False               A         False              True   \n",
      "9               A  False               A         False              True   \n",
      "10              B   True               B          True              True   \n",
      "11              B   True               B          True              True   \n",
      "12              A  False               A         False              True   \n",
      "13              B   True               B          True              True   \n",
      "14              A  False               A         False              True   \n",
      "15              B   True               B          True             False   \n",
      "16              B   True               B          True              True   \n",
      "17              B   True               B          True              True   \n",
      "18              B   True               B          True              True   \n",
      "19              A  False               A         False              True   \n",
      "\n",
      "    is_application  \n",
      "0   No Application  \n",
      "1   No Application  \n",
      "2   No Application  \n",
      "3   No Application  \n",
      "4   No Application  \n",
      "5   No Application  \n",
      "6   No Application  \n",
      "7   No Application  \n",
      "8   No Application  \n",
      "9   No Application  \n",
      "10  No Application  \n",
      "11  No Application  \n",
      "12  No Application  \n",
      "13  No Application  \n",
      "14  No Application  \n",
      "15     Application  \n",
      "16  No Application  \n",
      "17  No Application  \n",
      "18  No Application  \n",
      "19  No Application  \n"
     ]
    },
    {
     "data": {
      "text/plain": [
       "\"df['ab_test_group']=df.ab_test_group.apply(lambda x:'B' if pd.isnull(x) else 'A')\\nprint df.head()\""
      ]
     },
     "execution_count": 180,
     "metadata": {},
     "output_type": "execute_result"
    }
   ],
   "source": [
    "df['null_application']=df.application_date.isnull()\n",
    "df['is_application']=df.null_application.apply(lambda x:'Application' if x == False else 'No Application')\n",
    "print df.head(20)"
   ]
  },
  {
   "cell_type": "markdown",
   "metadata": {},
   "source": [
    "Now, using `groupby`, count how many people from Group A and Group B either do or don't pick up an application.  You'll want to group by `ab_test_group` and `is_application`.  Save this new DataFrame as `app_counts`"
   ]
  },
  {
   "cell_type": "code",
   "execution_count": 307,
   "metadata": {},
   "outputs": [
    {
     "name": "stdout",
     "output_type": "stream",
     "text": [
      "   is_application ab_test_group  first_name\n",
      "0     Application             A         250\n",
      "1     Application             B         325\n",
      "2  No Application             A        2254\n",
      "3  No Application             B        2175\n"
     ]
    }
   ],
   "source": [
    "app_counts=df.groupby(['is_application','ab_test_group']).first_name.count().reset_index()\n",
    "\n",
    "print app_counts\n"
   ]
  },
  {
   "cell_type": "markdown",
   "metadata": {},
   "source": [
    "We're going to want to calculate the percent of people in each group who complete an application.  It's going to be much easier to do this if we pivot `app_counts` such that:\n",
    "- The `index` is `ab_test_group`\n",
    "- The `columns` are `is_application`\n",
    "Perform this pivot and save it to the variable `app_pivot`.  Remember to call `reset_index()` at the end of the pivot!"
   ]
  },
  {
   "cell_type": "code",
   "execution_count": 326,
   "metadata": {},
   "outputs": [
    {
     "name": "stdout",
     "output_type": "stream",
     "text": [
      "is_application ab_test_group  Application  No Application\n",
      "0                          A          250            2254\n",
      "1                          B          325            2175\n"
     ]
    }
   ],
   "source": [
    "app_pivot=app_counts.pivot(columns='is_application',index='ab_test_group',values='first_name').reset_index()\n",
    "\n",
    "print app_pivot"
   ]
  },
  {
   "cell_type": "markdown",
   "metadata": {},
   "source": [
    "Define a new column called `Total`, which is the sum of `Application` and `No Application`."
   ]
  },
  {
   "cell_type": "code",
   "execution_count": 332,
   "metadata": {
    "collapsed": true
   },
   "outputs": [
    {
     "name": "stdout",
     "output_type": "stream",
     "text": [
      "is_application ab_test_group  Application  No Application  Total\n",
      "0                          A          250            2254   2504\n",
      "1                          B          325            2175   2500\n"
     ]
    }
   ],
   "source": [
    "app_pivot['Total']=app_pivot['Application']+app_pivot['No Application']\n",
    "\n",
    "print app_pivot"
   ]
  },
  {
   "cell_type": "markdown",
   "metadata": {},
   "source": [
    "Calculate another column called `Percent with Application`, which is equal to `Application` divided by `Total`."
   ]
  },
  {
   "cell_type": "code",
   "execution_count": 333,
   "metadata": {},
   "outputs": [
    {
     "name": "stdout",
     "output_type": "stream",
     "text": [
      "is_application ab_test_group  Application  No Application  Total  \\\n",
      "0                          A          250            2254   2504   \n",
      "1                          B          325            2175   2500   \n",
      "\n",
      "is_application  Percent with Application  \n",
      "0                                0.09984  \n",
      "1                                0.13000  \n"
     ]
    }
   ],
   "source": [
    "app_pivot['Percent with Application']=app_pivot['Application']/app_pivot['Total']\n",
    "\n",
    "print app_pivot"
   ]
  },
  {
   "cell_type": "markdown",
   "metadata": {},
   "source": [
    "It looks like more people from Group B turned in an application.  Why might that be?\n",
    "\n",
    "We need to know if this difference is statistically significant.\n",
    "\n",
    "Choose a hypothesis tests, import it from `scipy` and perform it.  Be sure to note the p-value.\n",
    "Is this result significant?"
   ]
  },
  {
   "cell_type": "code",
   "execution_count": 243,
   "metadata": {},
   "outputs": [
    {
     "name": "stdout",
     "output_type": "stream",
     "text": [
      "0.0009647827600722304\n"
     ]
    }
   ],
   "source": [
    "from scipy.stats import chi2_contingency\n",
    "\n",
    "chi2, pval, dof, expected = chi2_contingency([[250, 2254],\n",
    "     [325, 2175]])\n",
    "print pval\n",
    "\n",
    "#pval < .05... There IS a statistically significant difference!"
   ]
  },
  {
   "cell_type": "markdown",
   "metadata": {},
   "source": [
    "## Step 4: Who purchases a membership?"
   ]
  },
  {
   "cell_type": "markdown",
   "metadata": {},
   "source": [
    "Of those who picked up an application, how many purchased a membership?\n",
    "\n",
    "Let's begin by adding a column to `df` called `is_member` which is `Member` if `purchase_date` is not `None`, and `Not Member` otherwise."
   ]
  },
  {
   "cell_type": "code",
   "execution_count": 248,
   "metadata": {
    "collapsed": true
   },
   "outputs": [
    {
     "name": "stdout",
     "output_type": "stream",
     "text": [
      "   first_name  last_name  gender                         email visit_date  \\\n",
      "0     Armando    Mccarty    male     Armando.Mccarty@gmail.com     9-9-17   \n",
      "1      Sidney      Noble    male          SNoble1971@gmail.com     9-9-17   \n",
      "2      Walter     Lowery    male       WalterLowery8@gmail.com     9-9-17   \n",
      "3       Kathy     Macias  female         KMacias1975@gmail.com     9-9-17   \n",
      "4      Glenda    Mullins  female              GM2973@gmail.com     9-9-17   \n",
      "5     Chester    Whitney    male  ChesterWhitney27@outlook.com     9-9-17   \n",
      "6        Lori    Wilkins  female      Lori.Wilkins@hotmail.com     9-9-17   \n",
      "7   Constance       Pope  female              CP6444@gmail.com     9-9-17   \n",
      "8       Tracy      Ewing  female         Tracy.Ewing@gmail.com     9-9-17   \n",
      "9      Sylvia     Finley  female      SylviaFinley50@gmail.com     9-9-17   \n",
      "10     Ramona    Gilmore  female        RGilmore1975@gmail.com     9-9-17   \n",
      "11   Jennifer  Hendricks  female  Jennifer.Hendricks@gmail.com     9-9-17   \n",
      "12       Neil     Hopper    male         Neil.Hopper@gmail.com     9-9-17   \n",
      "13       Alma     Dalton  female         ADalton1980@gmail.com     9-9-17   \n",
      "14     Marcia    Emerson  female        MEmerson1975@gmail.com     9-9-17   \n",
      "15    Raymond   Cantrell    male    Raymond.Cantrell@gmail.com     9-9-17   \n",
      "16     Walter     Wooten    male       Walter.Wooten@gmail.com     9-9-17   \n",
      "17    Vincent      Wyatt    male       Vincent.Wyatt@gmail.com     9-9-17   \n",
      "18      Danny    Sellers    male      DannySellers53@gmail.com     9-9-17   \n",
      "19    Kristen    Trevino  female              KT2379@gmail.com     9-9-17   \n",
      "\n",
      "   fitness_test_date application_date purchase_date ab_test_group  \\\n",
      "0               None             None          None             B   \n",
      "1               None             None          None             B   \n",
      "2         2017-09-12             None          None             A   \n",
      "3               None             None          None             B   \n",
      "4               None             None          None             B   \n",
      "5               None             None          None             B   \n",
      "6               None             None          None             B   \n",
      "7         2017-09-15             None          None             A   \n",
      "8         2017-09-10             None          None             A   \n",
      "9         2017-09-14             None          None             A   \n",
      "10              None             None          None             B   \n",
      "11              None             None          None             B   \n",
      "12        2017-09-12             None          None             A   \n",
      "13              None             None          None             B   \n",
      "14        2017-09-11             None          None             A   \n",
      "15              None       2017-09-13    2017-09-18             B   \n",
      "16              None             None          None             B   \n",
      "17              None             None          None             B   \n",
      "18              None             None          None             B   \n",
      "19        2017-09-12             None          None             A   \n",
      "\n",
      "   ab_test_group1   null ab_test_group22  null_fitness  null_application  \\\n",
      "0               B   True               B          True              True   \n",
      "1               B   True               B          True              True   \n",
      "2               A  False               A         False              True   \n",
      "3               B   True               B          True              True   \n",
      "4               B   True               B          True              True   \n",
      "5               B   True               B          True              True   \n",
      "6               B   True               B          True              True   \n",
      "7               A  False               A         False              True   \n",
      "8               A  False               A         False              True   \n",
      "9               A  False               A         False              True   \n",
      "10              B   True               B          True              True   \n",
      "11              B   True               B          True              True   \n",
      "12              A  False               A         False              True   \n",
      "13              B   True               B          True              True   \n",
      "14              A  False               A         False              True   \n",
      "15              B   True               B          True             False   \n",
      "16              B   True               B          True              True   \n",
      "17              B   True               B          True              True   \n",
      "18              B   True               B          True              True   \n",
      "19              A  False               A         False              True   \n",
      "\n",
      "    is_application  null_purchase   is_member  \n",
      "0   No Application           True  Not Member  \n",
      "1   No Application           True  Not Member  \n",
      "2   No Application           True  Not Member  \n",
      "3   No Application           True  Not Member  \n",
      "4   No Application           True  Not Member  \n",
      "5   No Application           True  Not Member  \n",
      "6   No Application           True  Not Member  \n",
      "7   No Application           True  Not Member  \n",
      "8   No Application           True  Not Member  \n",
      "9   No Application           True  Not Member  \n",
      "10  No Application           True  Not Member  \n",
      "11  No Application           True  Not Member  \n",
      "12  No Application           True  Not Member  \n",
      "13  No Application           True  Not Member  \n",
      "14  No Application           True  Not Member  \n",
      "15     Application          False      Member  \n",
      "16  No Application           True  Not Member  \n",
      "17  No Application           True  Not Member  \n",
      "18  No Application           True  Not Member  \n",
      "19  No Application           True  Not Member  \n"
     ]
    },
    {
     "data": {
      "text/plain": [
       "\"df['ab_test_group']=df.ab_test_group.apply(lambda x:'B' if pd.isnull(x) else 'A')\\nprint df.head()\""
      ]
     },
     "execution_count": 248,
     "metadata": {},
     "output_type": "execute_result"
    }
   ],
   "source": [
    "df['null_purchase']=df.purchase_date.isnull()\n",
    "df['is_member']=df.null_purchase.apply(lambda x:'Member' if x == False else 'Not Member')\n",
    "print df.head(20)"
   ]
  },
  {
   "cell_type": "markdown",
   "metadata": {},
   "source": [
    "Now, let's create a DataFrame called `just_apps` the contains only people who picked up an application."
   ]
  },
  {
   "cell_type": "code",
   "execution_count": 254,
   "metadata": {
    "collapsed": true
   },
   "outputs": [
    {
     "name": "stdout",
     "output_type": "stream",
     "text": [
      "   first_name last_name  gender                       email visit_date  \\\n",
      "15    Raymond  Cantrell    male  Raymond.Cantrell@gmail.com     9-9-17   \n",
      "23    Roberta   Acevedo  female            RA8063@gmail.com     9-9-17   \n",
      "42    Suzanne  Humphrey  female  SuzanneHumphrey4@gmail.com     9-9-17   \n",
      "53      Ruben   Nielsen    male  RubenNielsen93@hotmail.com     9-9-17   \n",
      "61       Anna   Aguilar  female            AA9306@gmail.com     9-8-17   \n",
      "\n",
      "   fitness_test_date application_date purchase_date ab_test_group  \\\n",
      "15              None       2017-09-13    2017-09-18             B   \n",
      "23              None       2017-09-15    2017-09-16             B   \n",
      "42        2017-09-09       2017-09-13    2017-09-18             A   \n",
      "53              None       2017-09-13          None             B   \n",
      "61        2017-09-09       2017-09-10    2017-09-16             A   \n",
      "\n",
      "   ab_test_group1   null ab_test_group22  null_fitness  null_application  \\\n",
      "15              B   True               B          True             False   \n",
      "23              B   True               B          True             False   \n",
      "42              A  False               A         False             False   \n",
      "53              B   True               B          True             False   \n",
      "61              A  False               A         False             False   \n",
      "\n",
      "   is_application  null_purchase   is_member  \n",
      "15    Application          False      Member  \n",
      "23    Application          False      Member  \n",
      "42    Application          False      Member  \n",
      "53    Application           True  Not Member  \n",
      "61    Application          False      Member  \n"
     ]
    }
   ],
   "source": [
    "just_apps=df[df.is_application=='Application']\n",
    "\n",
    "print just_apps.head()"
   ]
  },
  {
   "cell_type": "raw",
   "metadata": {},
   "source": [
    "Great! Now, let's do a `groupby` to find out how many people in `just_apps` are and aren't members from each group.  Follow the same process that we did in Step 4, including pivoting the data.  You should end up with a DataFrame that looks like this:\n",
    "\n",
    "|is_member|ab_test_group|Member|Not Member|Total|Percent Purchase|\n",
    "|-|-|-|-|-|-|\n",
    "|0|A|?|?|?|?|\n",
    "|1|B|?|?|?|?|\n",
    "\n",
    "Save your final DataFrame as `member_pivot`."
   ]
  },
  {
   "cell_type": "code",
   "execution_count": 309,
   "metadata": {},
   "outputs": [
    {
     "name": "stdout",
     "output_type": "stream",
     "text": [
      "    is_member ab_test_group  first_name\n",
      "0      Member             A         200\n",
      "1      Member             B         250\n",
      "2  Not Member             A          50\n",
      "3  Not Member             B          75\n",
      "is_member ab_test_group  Member  Not Member  Total  Percent Purchase\n",
      "0                     A     200          50    250          0.800000\n",
      "1                     B     250          75    325          0.769231\n"
     ]
    }
   ],
   "source": [
    "just_app_counts=just_apps.groupby(['is_member','ab_test_group']).first_name.count().reset_index()\n",
    "\n",
    "print just_app_counts\n",
    "\n",
    "member_pivot=just_app_counts.pivot(columns='is_member',index='ab_test_group',values='first_name').reset_index()\n",
    "member_pivot['Total']=member_pivot['Member']+member_pivot['Not Member']\n",
    "member_pivot['Percent Purchase']=member_pivot['Member']/member_pivot['Total']\n",
    "\n",
    "print member_pivot"
   ]
  },
  {
   "cell_type": "markdown",
   "metadata": {},
   "source": [
    "It looks like people who took the fitness test were more likely to purchase a membership **if** they picked up an application.  Why might that be?\n",
    "\n",
    "Just like before, we need to know if this difference is statistically significant.  Choose a hypothesis tests, import it from `scipy` and perform it.  Be sure to note the p-value.\n",
    "Is this result significant?"
   ]
  },
  {
   "cell_type": "code",
   "execution_count": 262,
   "metadata": {},
   "outputs": [
    {
     "name": "stdout",
     "output_type": "stream",
     "text": [
      "0.43258646051083327\n"
     ]
    }
   ],
   "source": [
    "from scipy.stats import chi2_contingency\n",
    "\n",
    "chi2, pval, dof, expected = chi2_contingency([[200, 50],\n",
    "     [250, 75]])\n",
    "print pval\n",
    "\n",
    "#pval > .05... There IS NOT a statistically significant difference!"
   ]
  },
  {
   "cell_type": "markdown",
   "metadata": {},
   "source": [
    "Previously, we looked at what percent of people **who picked up applications** purchased memberships.  What we really care about is what percentage of **all visitors** purchased memberships.  Return to `df` and do a `groupby` to find out how many people in `df` are and aren't members from each group.  Follow the same process that we did in Step 4, including pivoting the data.  You should end up with a DataFrame that looks like this:\n",
    "\n",
    "|is_member|ab_test_group|Member|Not Member|Total|Percent Purchase|\n",
    "|-|-|-|-|-|-|\n",
    "|0|A|?|?|?|?|\n",
    "|1|B|?|?|?|?|\n",
    "\n",
    "Save your final DataFrame as `final_member_pivot`."
   ]
  },
  {
   "cell_type": "code",
   "execution_count": 263,
   "metadata": {},
   "outputs": [
    {
     "name": "stdout",
     "output_type": "stream",
     "text": [
      "    is_member ab_test_group  first_name\n",
      "0      Member             A         200\n",
      "1      Member             B         250\n",
      "2  Not Member             A        2304\n",
      "3  Not Member             B        2250\n",
      "is_member ab_test_group  Member  Not Member  Total  Percent Purchase\n",
      "0                     A     200        2304   2504          0.079872\n",
      "1                     B     250        2250   2500          0.100000\n"
     ]
    }
   ],
   "source": [
    "all_purchase_counts=df.groupby(['is_member','ab_test_group']).first_name.count().reset_index()\n",
    "\n",
    "print all_purchase_counts\n",
    "\n",
    "final_member_pivot=all_purchase_counts.pivot(columns='is_member',index='ab_test_group',values='first_name').reset_index()\n",
    "final_member_pivot['Total']=all_purchase_pivot['Member']+all_purchase_pivot['Not Member']\n",
    "final_member_pivot['Percent Purchase']=all_purchase_pivot['Member']/all_purchase_pivot['Total']\n",
    "\n",
    "print final_member_pivot"
   ]
  },
  {
   "cell_type": "markdown",
   "metadata": {},
   "source": [
    "Previously, when we only considered people who had **already picked up an application**, we saw that there was no significant difference in membership between Group A and Group B.\n",
    "\n",
    "Now, when we consider all people who **visit MuscleHub**, we see that there might be a significant different in memberships between Group A and Group B.  Perform a significance test and check."
   ]
  },
  {
   "cell_type": "code",
   "execution_count": 261,
   "metadata": {},
   "outputs": [
    {
     "name": "stdout",
     "output_type": "stream",
     "text": [
      "0.014724114645783203\n"
     ]
    }
   ],
   "source": [
    "from scipy.stats import chi2_contingency\n",
    "\n",
    "chi2, pval, dof, expected = chi2_contingency([[200, 2304],\n",
    "     [250, 2250]])\n",
    "print pval\n",
    "\n",
    "#pval < .05... There IS a statistically significant difference!"
   ]
  },
  {
   "cell_type": "markdown",
   "metadata": {},
   "source": [
    "## Step 5: Summarize the acquisition funel with a chart"
   ]
  },
  {
   "cell_type": "markdown",
   "metadata": {},
   "source": [
    "We'd like to make a bar chart for Janet that shows the difference between Group A (people who were given the fitness test) and Group B (people who were not given the fitness test) at each state of the process:\n",
    "- Percent of visitors who apply\n",
    "- Percent of applicants who purchase a membership\n",
    "- Percent of visitors who purchase a membership\n",
    "\n",
    "Create one plot for **each** of the three sets of percentages that you calculated in `app_pivot`, `member_pivot` and `final_member_pivot`.  Each plot should:\n",
    "- Label the two bars as `Fitness Test` and `No Fitness Test`\n",
    "- Make sure that the y-axis ticks are expressed as percents (i.e., `5%`)\n",
    "- Have a title"
   ]
  },
  {
   "cell_type": "code",
   "execution_count": 330,
   "metadata": {},
   "outputs": [
    {
     "name": "stdout",
     "output_type": "stream",
     "text": [
      "is_application ab_test_group  Application  No Application\n",
      "0                          A          250            2254\n",
      "1                          B          325            2175\n"
     ]
    }
   ],
   "source": [
    "print app_pivot"
   ]
  },
  {
   "cell_type": "code",
   "execution_count": 334,
   "metadata": {},
   "outputs": [
    {
     "data": {
      "image/png": "[encoded data removed]",
      "text/plain": [
       "<Figure size 720x576 with 1 Axes>"
      ]
     },
     "metadata": {},
     "output_type": "display_data"
    }
   ],
   "source": [
    "plt.figure(figsize=(10,8))\n",
    "plt.title(\"Percent of Visitors Who Apply\")\n",
    "plt.bar((range(len(app_pivot['Percent with Application']))),app_pivot['Percent with Application'])\n",
    "ax=plt.subplot()\n",
    "ax.set_xticks(range(len(app_pivot['Percent with Application'])))\n",
    "ax.set_xticklabels([\"Fitness Test\", \"No Fitness Test\"])\n",
    "ax.set_yticks([0.02, 0.04, 0.06, 0.08, 0.10, 0.12, 0.14, 0.16, 0.18, 0.20])\n",
    "ax.set_yticklabels(['2%', '4%', '6%', '8%', '10%', '12%', '14%', '16%', '18%', '20%'])\n",
    "\n",
    "plt.show()"
   ]
  },
  {
   "cell_type": "code",
   "execution_count": 328,
   "metadata": {},
   "outputs": [
    {
     "data": {
      "image/png": "[encoded data removed]",
      "text/plain": [
       "<Figure size 720x576 with 1 Axes>"
      ]
     },
     "metadata": {},
     "output_type": "display_data"
    }
   ],
   "source": [
    "plt.figure(figsize=(10,8))\n",
    "plt.title(\"Percent of Applicants Who Purchase a Membership\")\n",
    "plt.bar((range(len(member_pivot['Percent Purchase']))),member_pivot['Percent Purchase'])\n",
    "ax=plt.subplot()\n",
    "ax.set_xticks(range(len(member_pivot['Percent Purchase'])))\n",
    "ax.set_xticklabels([\"Fitness Test\", \"No Fitness Test\"])\n",
    "ax.set_yticks([.0, .05, .15, .25, .35, .45, .55, .65, .75, .85, .95, 1])\n",
    "ax.set_yticklabels(['0%', '5%', '15%', '25%', '35%', '45%', '55%', '65%', '75%', '85%', '95%', '100%'])\n",
    "\n",
    "plt.show()"
   ]
  },
  {
   "cell_type": "code",
   "execution_count": 300,
   "metadata": {},
   "outputs": [
    {
     "name": "stdout",
     "output_type": "stream",
     "text": [
      "is_member ab_test_group  Member  Not Member  Total  Percent Purchase\n",
      "0                     A     200        2304   2504          0.079872\n",
      "1                     B     250        2250   2500          0.100000\n"
     ]
    }
   ],
   "source": [
    "print final_member_pivot"
   ]
  },
  {
   "cell_type": "code",
   "execution_count": 324,
   "metadata": {},
   "outputs": [
    {
     "data": {
      "image/png": "[encoded data removed]",
      "text/plain": [
       "<Figure size 720x576 with 1 Axes>"
      ]
     },
     "metadata": {},
     "output_type": "display_data"
    }
   ],
   "source": [
    "plt.figure(figsize=(10,8))\n",
    "plt.title(\"Percent of Visitors Who Purchase a Membership\")\n",
    "plt.bar((range(len(final_member_pivot['Percent Purchase']))),final_member_pivot['Percent Purchase'])\n",
    "ax=plt.subplot()\n",
    "ax.set_xticks(range(len(final_member_pivot['Percent Purchase'])))\n",
    "ax.set_xticklabels([\"Fitness Test\", \"No Fitness Test\"])\n",
    "ax.set_yticks([0.02, 0.04, 0.06, 0.08, 0.10, 0.12, 0.14, 0.16, 0.18, 0.20])\n",
    "ax.set_yticklabels(['2%', '4%', '6%', '8%', '10%', '12%', '14%', '16%', '18%', '20%'])\n",
    "\n",
    "plt.show()"
   ]
  }
 ],
 "metadata": {
  "kernelspec": {
   "display_name": "Python 2",
   "language": "python",
   "name": "python2"
  },
  "language_info": {
   "codemirror_mode": {
    "name": "ipython",
    "version": 2
   },
   "file_extension": ".py",
   "mimetype": "text/x-python",
   "name": "python",
   "nbconvert_exporter": "python",
   "pygments_lexer": "ipython2",
   "version": "2.7.15"
  }
 },
 "nbformat": 4,
 "nbformat_minor": 2
}
